{
  "nbformat": 4,
  "nbformat_minor": 0,
  "metadata": {
    "colab": {
      "provenance": [],
      "gpuType": "T4",
      "authorship_tag": "ABX9TyM4JTtdvINlfJPW3pwdzE3+",
      "include_colab_link": true
    },
    "kernelspec": {
      "name": "python3",
      "display_name": "Python 3"
    },
    "language_info": {
      "name": "python"
    },
    "accelerator": "GPU",
    "widgets": {
      "application/vnd.jupyter.widget-state+json": {
        "96a05789cbd94e518adba4dfabf6b09d": {
          "model_module": "@jupyter-widgets/controls",
          "model_name": "TextModel",
          "model_module_version": "1.5.0",
          "state": {
            "_dom_classes": [],
            "_model_module": "@jupyter-widgets/controls",
            "_model_module_version": "1.5.0",
            "_model_name": "TextModel",
            "_view_count": null,
            "_view_module": "@jupyter-widgets/controls",
            "_view_module_version": "1.5.0",
            "_view_name": "TextView",
            "continuous_update": true,
            "description": "Query:",
            "description_tooltip": null,
            "disabled": false,
            "layout": "IPY_MODEL_d5ab990f8409473199b1bb9c32e679f6",
            "placeholder": "Enter your query here",
            "style": "IPY_MODEL_a48da66354784661b0bf8f7ce19a379e",
            "value": "tell me abt the bills from last month and schedule a meeting with david tonight to dicsuss about these."
          }
        },
        "d5ab990f8409473199b1bb9c32e679f6": {
          "model_module": "@jupyter-widgets/base",
          "model_name": "LayoutModel",
          "model_module_version": "1.2.0",
          "state": {
            "_model_module": "@jupyter-widgets/base",
            "_model_module_version": "1.2.0",
            "_model_name": "LayoutModel",
            "_view_count": null,
            "_view_module": "@jupyter-widgets/base",
            "_view_module_version": "1.2.0",
            "_view_name": "LayoutView",
            "align_content": null,
            "align_items": null,
            "align_self": null,
            "border": null,
            "bottom": null,
            "display": null,
            "flex": null,
            "flex_flow": null,
            "grid_area": null,
            "grid_auto_columns": null,
            "grid_auto_flow": null,
            "grid_auto_rows": null,
            "grid_column": null,
            "grid_gap": null,
            "grid_row": null,
            "grid_template_areas": null,
            "grid_template_columns": null,
            "grid_template_rows": null,
            "height": null,
            "justify_content": null,
            "justify_items": null,
            "left": null,
            "margin": null,
            "max_height": null,
            "max_width": null,
            "min_height": null,
            "min_width": null,
            "object_fit": null,
            "object_position": null,
            "order": null,
            "overflow": null,
            "overflow_x": null,
            "overflow_y": null,
            "padding": null,
            "right": null,
            "top": null,
            "visibility": null,
            "width": "100%"
          }
        },
        "a48da66354784661b0bf8f7ce19a379e": {
          "model_module": "@jupyter-widgets/controls",
          "model_name": "DescriptionStyleModel",
          "model_module_version": "1.5.0",
          "state": {
            "_model_module": "@jupyter-widgets/controls",
            "_model_module_version": "1.5.0",
            "_model_name": "DescriptionStyleModel",
            "_view_count": null,
            "_view_module": "@jupyter-widgets/base",
            "_view_module_version": "1.2.0",
            "_view_name": "StyleView",
            "description_width": ""
          }
        },
        "3a1fb8fba3904648a0b8a818b8ee3581": {
          "model_module": "@jupyter-widgets/controls",
          "model_name": "ButtonModel",
          "model_module_version": "1.5.0",
          "state": {
            "_dom_classes": [],
            "_model_module": "@jupyter-widgets/controls",
            "_model_module_version": "1.5.0",
            "_model_name": "ButtonModel",
            "_view_count": null,
            "_view_module": "@jupyter-widgets/controls",
            "_view_module_version": "1.5.0",
            "_view_name": "ButtonView",
            "button_style": "success",
            "description": "Generate Plan",
            "disabled": false,
            "icon": "",
            "layout": "IPY_MODEL_8f9f1c5f9a80463ea2f947ccd7db12cc",
            "style": "IPY_MODEL_1b2f8338e8384dcfb8174c57aecf075c",
            "tooltip": ""
          }
        },
        "8f9f1c5f9a80463ea2f947ccd7db12cc": {
          "model_module": "@jupyter-widgets/base",
          "model_name": "LayoutModel",
          "model_module_version": "1.2.0",
          "state": {
            "_model_module": "@jupyter-widgets/base",
            "_model_module_version": "1.2.0",
            "_model_name": "LayoutModel",
            "_view_count": null,
            "_view_module": "@jupyter-widgets/base",
            "_view_module_version": "1.2.0",
            "_view_name": "LayoutView",
            "align_content": null,
            "align_items": null,
            "align_self": null,
            "border": null,
            "bottom": null,
            "display": null,
            "flex": null,
            "flex_flow": null,
            "grid_area": null,
            "grid_auto_columns": null,
            "grid_auto_flow": null,
            "grid_auto_rows": null,
            "grid_column": null,
            "grid_gap": null,
            "grid_row": null,
            "grid_template_areas": null,
            "grid_template_columns": null,
            "grid_template_rows": null,
            "height": null,
            "justify_content": null,
            "justify_items": null,
            "left": null,
            "margin": null,
            "max_height": null,
            "max_width": null,
            "min_height": null,
            "min_width": null,
            "object_fit": null,
            "object_position": null,
            "order": null,
            "overflow": null,
            "overflow_x": null,
            "overflow_y": null,
            "padding": null,
            "right": null,
            "top": null,
            "visibility": null,
            "width": null
          }
        },
        "1b2f8338e8384dcfb8174c57aecf075c": {
          "model_module": "@jupyter-widgets/controls",
          "model_name": "ButtonStyleModel",
          "model_module_version": "1.5.0",
          "state": {
            "_model_module": "@jupyter-widgets/controls",
            "_model_module_version": "1.5.0",
            "_model_name": "ButtonStyleModel",
            "_view_count": null,
            "_view_module": "@jupyter-widgets/base",
            "_view_module_version": "1.2.0",
            "_view_name": "StyleView",
            "button_color": null,
            "font_weight": ""
          }
        },
        "06169cec8ff14f7b9b07577acdefa146": {
          "model_module": "@jupyter-widgets/output",
          "model_name": "OutputModel",
          "model_module_version": "1.0.0",
          "state": {
            "_dom_classes": [],
            "_model_module": "@jupyter-widgets/output",
            "_model_module_version": "1.0.0",
            "_model_name": "OutputModel",
            "_view_count": null,
            "_view_module": "@jupyter-widgets/output",
            "_view_module_version": "1.0.0",
            "_view_name": "OutputView",
            "layout": "IPY_MODEL_a67f20016c7043d79bbd02ca8d9fd8fd",
            "msg_id": "",
            "outputs": [
              {
                "output_type": "stream",
                "name": "stdout",
                "text": [
                  "⏳ Generating plan... please wait.\n"
                ]
              }
            ]
          }
        },
        "a67f20016c7043d79bbd02ca8d9fd8fd": {
          "model_module": "@jupyter-widgets/base",
          "model_name": "LayoutModel",
          "model_module_version": "1.2.0",
          "state": {
            "_model_module": "@jupyter-widgets/base",
            "_model_module_version": "1.2.0",
            "_model_name": "LayoutModel",
            "_view_count": null,
            "_view_module": "@jupyter-widgets/base",
            "_view_module_version": "1.2.0",
            "_view_name": "LayoutView",
            "align_content": null,
            "align_items": null,
            "align_self": null,
            "border": null,
            "bottom": null,
            "display": null,
            "flex": null,
            "flex_flow": null,
            "grid_area": null,
            "grid_auto_columns": null,
            "grid_auto_flow": null,
            "grid_auto_rows": null,
            "grid_column": null,
            "grid_gap": null,
            "grid_row": null,
            "grid_template_areas": null,
            "grid_template_columns": null,
            "grid_template_rows": null,
            "height": null,
            "justify_content": null,
            "justify_items": null,
            "left": null,
            "margin": null,
            "max_height": null,
            "max_width": null,
            "min_height": null,
            "min_width": null,
            "object_fit": null,
            "object_position": null,
            "order": null,
            "overflow": null,
            "overflow_x": null,
            "overflow_y": null,
            "padding": null,
            "right": null,
            "top": null,
            "visibility": null,
            "width": null
          }
        }
      }
    }
  },
  "cells": [
    {
      "cell_type": "markdown",
      "metadata": {
        "id": "view-in-github",
        "colab_type": "text"
      },
      "source": [
        "<a href=\"https://colab.research.google.com/github/poorvigupta26/LEETCODE_JAVA/blob/main/nlp_to_fn_pipeline_demo.ipynb\" target=\"_parent\"><img src=\"https://colab.research.google.com/assets/colab-badge.svg\" alt=\"Open In Colab\"/></a>"
      ]
    },
    {
      "cell_type": "code",
      "source": [
        "!pip install -U langchain langchain-community huggingface_hub transformers"
      ],
      "metadata": {
        "colab": {
          "base_uri": "https://localhost:8080/"
        },
        "id": "ME0qRkQ3JHef",
        "outputId": "f64bef5e-ef9f-472a-be18-c76f0f0733e1"
      },
      "execution_count": 46,
      "outputs": [
        {
          "output_type": "stream",
          "name": "stdout",
          "text": [
            "Requirement already satisfied: langchain in /usr/local/lib/python3.11/dist-packages (0.3.26)\n",
            "Requirement already satisfied: langchain-community in /usr/local/lib/python3.11/dist-packages (0.3.26)\n",
            "Requirement already satisfied: huggingface_hub in /usr/local/lib/python3.11/dist-packages (0.33.0)\n",
            "Requirement already satisfied: transformers in /usr/local/lib/python3.11/dist-packages (4.52.4)\n",
            "Requirement already satisfied: langchain-core<1.0.0,>=0.3.66 in /usr/local/lib/python3.11/dist-packages (from langchain) (0.3.66)\n",
            "Requirement already satisfied: langchain-text-splitters<1.0.0,>=0.3.8 in /usr/local/lib/python3.11/dist-packages (from langchain) (0.3.8)\n",
            "Requirement already satisfied: langsmith>=0.1.17 in /usr/local/lib/python3.11/dist-packages (from langchain) (0.3.45)\n",
            "Requirement already satisfied: pydantic<3.0.0,>=2.7.4 in /usr/local/lib/python3.11/dist-packages (from langchain) (2.11.7)\n",
            "Requirement already satisfied: SQLAlchemy<3,>=1.4 in /usr/local/lib/python3.11/dist-packages (from langchain) (2.0.41)\n",
            "Requirement already satisfied: requests<3,>=2 in /usr/local/lib/python3.11/dist-packages (from langchain) (2.32.3)\n",
            "Requirement already satisfied: PyYAML>=5.3 in /usr/local/lib/python3.11/dist-packages (from langchain) (6.0.2)\n",
            "Requirement already satisfied: aiohttp<4.0.0,>=3.8.3 in /usr/local/lib/python3.11/dist-packages (from langchain-community) (3.11.15)\n",
            "Requirement already satisfied: tenacity!=8.4.0,<10,>=8.1.0 in /usr/local/lib/python3.11/dist-packages (from langchain-community) (9.1.2)\n",
            "Requirement already satisfied: dataclasses-json<0.7,>=0.5.7 in /usr/local/lib/python3.11/dist-packages (from langchain-community) (0.6.7)\n",
            "Requirement already satisfied: pydantic-settings<3.0.0,>=2.4.0 in /usr/local/lib/python3.11/dist-packages (from langchain-community) (2.9.1)\n",
            "Requirement already satisfied: httpx-sse<1.0.0,>=0.4.0 in /usr/local/lib/python3.11/dist-packages (from langchain-community) (0.4.0)\n",
            "Requirement already satisfied: numpy>=1.26.2 in /usr/local/lib/python3.11/dist-packages (from langchain-community) (2.0.2)\n",
            "Requirement already satisfied: filelock in /usr/local/lib/python3.11/dist-packages (from huggingface_hub) (3.18.0)\n",
            "Requirement already satisfied: fsspec>=2023.5.0 in /usr/local/lib/python3.11/dist-packages (from huggingface_hub) (2025.3.2)\n",
            "Requirement already satisfied: packaging>=20.9 in /usr/local/lib/python3.11/dist-packages (from huggingface_hub) (24.2)\n",
            "Requirement already satisfied: tqdm>=4.42.1 in /usr/local/lib/python3.11/dist-packages (from huggingface_hub) (4.67.1)\n",
            "Requirement already satisfied: typing-extensions>=3.7.4.3 in /usr/local/lib/python3.11/dist-packages (from huggingface_hub) (4.14.0)\n",
            "Requirement already satisfied: hf-xet<2.0.0,>=1.1.2 in /usr/local/lib/python3.11/dist-packages (from huggingface_hub) (1.1.3)\n",
            "Requirement already satisfied: regex!=2019.12.17 in /usr/local/lib/python3.11/dist-packages (from transformers) (2024.11.6)\n",
            "Requirement already satisfied: tokenizers<0.22,>=0.21 in /usr/local/lib/python3.11/dist-packages (from transformers) (0.21.1)\n",
            "Requirement already satisfied: safetensors>=0.4.3 in /usr/local/lib/python3.11/dist-packages (from transformers) (0.5.3)\n",
            "Requirement already satisfied: aiohappyeyeballs>=2.3.0 in /usr/local/lib/python3.11/dist-packages (from aiohttp<4.0.0,>=3.8.3->langchain-community) (2.6.1)\n",
            "Requirement already satisfied: aiosignal>=1.1.2 in /usr/local/lib/python3.11/dist-packages (from aiohttp<4.0.0,>=3.8.3->langchain-community) (1.3.2)\n",
            "Requirement already satisfied: attrs>=17.3.0 in /usr/local/lib/python3.11/dist-packages (from aiohttp<4.0.0,>=3.8.3->langchain-community) (25.3.0)\n",
            "Requirement already satisfied: frozenlist>=1.1.1 in /usr/local/lib/python3.11/dist-packages (from aiohttp<4.0.0,>=3.8.3->langchain-community) (1.7.0)\n",
            "Requirement already satisfied: multidict<7.0,>=4.5 in /usr/local/lib/python3.11/dist-packages (from aiohttp<4.0.0,>=3.8.3->langchain-community) (6.4.4)\n",
            "Requirement already satisfied: propcache>=0.2.0 in /usr/local/lib/python3.11/dist-packages (from aiohttp<4.0.0,>=3.8.3->langchain-community) (0.3.2)\n",
            "Requirement already satisfied: yarl<2.0,>=1.17.0 in /usr/local/lib/python3.11/dist-packages (from aiohttp<4.0.0,>=3.8.3->langchain-community) (1.20.1)\n",
            "Requirement already satisfied: marshmallow<4.0.0,>=3.18.0 in /usr/local/lib/python3.11/dist-packages (from dataclasses-json<0.7,>=0.5.7->langchain-community) (3.26.1)\n",
            "Requirement already satisfied: typing-inspect<1,>=0.4.0 in /usr/local/lib/python3.11/dist-packages (from dataclasses-json<0.7,>=0.5.7->langchain-community) (0.9.0)\n",
            "Requirement already satisfied: jsonpatch<2.0,>=1.33 in /usr/local/lib/python3.11/dist-packages (from langchain-core<1.0.0,>=0.3.66->langchain) (1.33)\n",
            "Requirement already satisfied: httpx<1,>=0.23.0 in /usr/local/lib/python3.11/dist-packages (from langsmith>=0.1.17->langchain) (0.28.1)\n",
            "Requirement already satisfied: orjson<4.0.0,>=3.9.14 in /usr/local/lib/python3.11/dist-packages (from langsmith>=0.1.17->langchain) (3.10.18)\n",
            "Requirement already satisfied: requests-toolbelt<2.0.0,>=1.0.0 in /usr/local/lib/python3.11/dist-packages (from langsmith>=0.1.17->langchain) (1.0.0)\n",
            "Requirement already satisfied: zstandard<0.24.0,>=0.23.0 in /usr/local/lib/python3.11/dist-packages (from langsmith>=0.1.17->langchain) (0.23.0)\n",
            "Requirement already satisfied: annotated-types>=0.6.0 in /usr/local/lib/python3.11/dist-packages (from pydantic<3.0.0,>=2.7.4->langchain) (0.7.0)\n",
            "Requirement already satisfied: pydantic-core==2.33.2 in /usr/local/lib/python3.11/dist-packages (from pydantic<3.0.0,>=2.7.4->langchain) (2.33.2)\n",
            "Requirement already satisfied: typing-inspection>=0.4.0 in /usr/local/lib/python3.11/dist-packages (from pydantic<3.0.0,>=2.7.4->langchain) (0.4.1)\n",
            "Requirement already satisfied: python-dotenv>=0.21.0 in /usr/local/lib/python3.11/dist-packages (from pydantic-settings<3.0.0,>=2.4.0->langchain-community) (1.1.0)\n",
            "Requirement already satisfied: charset-normalizer<4,>=2 in /usr/local/lib/python3.11/dist-packages (from requests<3,>=2->langchain) (3.4.2)\n",
            "Requirement already satisfied: idna<4,>=2.5 in /usr/local/lib/python3.11/dist-packages (from requests<3,>=2->langchain) (3.10)\n",
            "Requirement already satisfied: urllib3<3,>=1.21.1 in /usr/local/lib/python3.11/dist-packages (from requests<3,>=2->langchain) (2.4.0)\n",
            "Requirement already satisfied: certifi>=2017.4.17 in /usr/local/lib/python3.11/dist-packages (from requests<3,>=2->langchain) (2025.6.15)\n",
            "Requirement already satisfied: greenlet>=1 in /usr/local/lib/python3.11/dist-packages (from SQLAlchemy<3,>=1.4->langchain) (3.2.3)\n",
            "Requirement already satisfied: anyio in /usr/local/lib/python3.11/dist-packages (from httpx<1,>=0.23.0->langsmith>=0.1.17->langchain) (4.9.0)\n",
            "Requirement already satisfied: httpcore==1.* in /usr/local/lib/python3.11/dist-packages (from httpx<1,>=0.23.0->langsmith>=0.1.17->langchain) (1.0.9)\n",
            "Requirement already satisfied: h11>=0.16 in /usr/local/lib/python3.11/dist-packages (from httpcore==1.*->httpx<1,>=0.23.0->langsmith>=0.1.17->langchain) (0.16.0)\n",
            "Requirement already satisfied: jsonpointer>=1.9 in /usr/local/lib/python3.11/dist-packages (from jsonpatch<2.0,>=1.33->langchain-core<1.0.0,>=0.3.66->langchain) (3.0.0)\n",
            "Requirement already satisfied: mypy-extensions>=0.3.0 in /usr/local/lib/python3.11/dist-packages (from typing-inspect<1,>=0.4.0->dataclasses-json<0.7,>=0.5.7->langchain-community) (1.1.0)\n",
            "Requirement already satisfied: sniffio>=1.1 in /usr/local/lib/python3.11/dist-packages (from anyio->httpx<1,>=0.23.0->langsmith>=0.1.17->langchain) (1.3.1)\n"
          ]
        }
      ]
    },
    {
      "cell_type": "code",
      "source": [
        "import json\n",
        "import os\n",
        "import re\n",
        "from datetime import datetime"
      ],
      "metadata": {
        "id": "n65JkfMD9lNP"
      },
      "execution_count": 47,
      "outputs": []
    },
    {
      "cell_type": "code",
      "source": [
        "function_library = [\n",
        "    {\n",
        "        \"name\": \"get_invoices\",\n",
        "        \"description\": \"Fetches all invoice records for a given month.\",\n",
        "        \"inputs\": {\n",
        "            \"month\": \"string\"\n",
        "        },\n",
        "        \"outputs\": {\n",
        "            \"invoices\": \"list\"\n",
        "        }\n",
        "    },\n",
        "    {\n",
        "        \"name\": \"summarize_invoices\",\n",
        "        \"description\": \"Summarizes a list of invoices to get total amount and stats.\",\n",
        "        \"inputs\": {\n",
        "            \"invoices\": \"list\"\n",
        "        },\n",
        "        \"outputs\": {\n",
        "            \"summary\": \"string\"\n",
        "        }\n",
        "    },\n",
        "    {\n",
        "        \"name\": \"send_email\",\n",
        "        \"description\": \"Sends an email with subject and body to a recipient.\",\n",
        "        \"inputs\": {\n",
        "            \"to\": \"string\",\n",
        "            \"subject\": \"string\",\n",
        "            \"body\": \"string\"\n",
        "        },\n",
        "        \"outputs\": {\n",
        "            \"status\": \"string\"\n",
        "        }\n",
        "    },\n",
        "    {\n",
        "        \"name\": \"get_meetings\",\n",
        "        \"description\": \"Retrieves scheduled meetings for a specified date.\",\n",
        "        \"inputs\": {\n",
        "            \"date\": \"string\"\n",
        "        },\n",
        "        \"outputs\": {\n",
        "            \"meetings\": \"list\"\n",
        "        }\n",
        "    },\n",
        "    {\n",
        "        \"name\": \"schedule_meeting\",\n",
        "        \"description\": \"Schedules a new meeting.\",\n",
        "        \"inputs\": {\n",
        "            \"participants\": \"list\",\n",
        "            \"date\": \"string\",\n",
        "            \"time\": \"string\",\n",
        "            \"agenda\": \"string\"\n",
        "        },\n",
        "        \"outputs\": {\n",
        "            \"confirmation\": \"string\"\n",
        "        }\n",
        "    },\n",
        "    {\n",
        "        \"name\": \"get_user_profile\",\n",
        "        \"description\": \"Fetches profile data for a given user ID.\",\n",
        "        \"inputs\": {\n",
        "            \"user_id\": \"string\"\n",
        "        },\n",
        "        \"outputs\": {\n",
        "            \"profile\": \"dict\"\n",
        "        }\n",
        "    },\n",
        "    {\n",
        "        \"name\": \"update_user_preferences\",\n",
        "        \"description\": \"Updates a user's notification or theme preferences.\",\n",
        "        \"inputs\": {\n",
        "            \"user_id\": \"string\",\n",
        "            \"preferences\": \"dict\"\n",
        "        },\n",
        "        \"outputs\": {\n",
        "            \"status\": \"string\"\n",
        "        }\n",
        "    },\n",
        "    {\n",
        "        \"name\": \"fetch_weather\",\n",
        "        \"description\": \"Gets weather information for a specified location.\",\n",
        "        \"inputs\": {\n",
        "            \"location\": \"string\"\n",
        "        },\n",
        "        \"outputs\": {\n",
        "            \"weather\": \"dict\"\n",
        "        }\n",
        "    },\n",
        "    {\n",
        "        \"name\": \"log_activity\",\n",
        "        \"description\": \"Logs a user activity for audit or tracking purposes.\",\n",
        "        \"inputs\": {\n",
        "            \"user_id\": \"string\",\n",
        "            \"activity\": \"string\",\n",
        "            \"timestamp\": \"string\"\n",
        "        },\n",
        "        \"outputs\": {\n",
        "            \"log_id\": \"string\"\n",
        "        }\n",
        "    },\n",
        "    {\n",
        "        \"name\": \"translate_text\",\n",
        "        \"description\": \"Translates input text from one language to another.\",\n",
        "        \"inputs\": {\n",
        "            \"text\": \"string\",\n",
        "            \"source_lang\": \"string\",\n",
        "            \"target_lang\": \"string\"\n",
        "        },\n",
        "        \"outputs\": {\n",
        "            \"translated_text\": \"string\"\n",
        "        }\n",
        "    },\n",
        "    {\n",
        "        \"name\": \"fetch_news_headlines\",\n",
        "        \"description\": \"Retrieves top news headlines for a given category or location.\",\n",
        "        \"inputs\": {\n",
        "            \"category\": \"string\",\n",
        "            \"region\": \"string\"\n",
        "        },\n",
        "        \"outputs\": {\n",
        "            \"headlines\": \"list\"\n",
        "        }\n",
        "    },\n",
        "    {\n",
        "        \"name\": \"create_task\",\n",
        "        \"description\": \"Creates a to-do task for the user.\",\n",
        "        \"inputs\": {\n",
        "            \"title\": \"string\",\n",
        "            \"due_date\": \"string\",\n",
        "            \"priority\": \"string\"\n",
        "        },\n",
        "        \"outputs\": {\n",
        "            \"task_id\": \"string\"\n",
        "        }\n",
        "    }\n",
        "]\n",
        "\n",
        "\n",
        "with open(\"function_library.json\", \"w\") as f:\n",
        "    json.dump(function_library, f, indent=2)\n",
        "\n",
        "print(\"function_library created\")\n"
      ],
      "metadata": {
        "colab": {
          "base_uri": "https://localhost:8080/"
        },
        "id": "E85vusKp95M8",
        "outputId": "4171f97e-39d8-4642-def9-7c6710d50e88"
      },
      "execution_count": 48,
      "outputs": [
        {
          "output_type": "stream",
          "name": "stdout",
          "text": [
            "function_library created\n"
          ]
        }
      ]
    },
    {
      "cell_type": "code",
      "source": [
        "def format_function_prompt(function_registry):\n",
        "    prompt = \"\"\n",
        "    for fn in function_registry:\n",
        "        name = fn[\"name\"]\n",
        "        desc = fn[\"description\"]\n",
        "        inputs = fn[\"inputs\"]\n",
        "        inputs_str = \", \".join(f\"{k}: {v}\" for k, v in inputs.items())\n",
        "        prompt += f\"- {name}({inputs_str}): {desc}\\n\"\n",
        "    return prompt\n",
        "\n",
        "\n",
        "print(format_function_prompt(function_library));"
      ],
      "metadata": {
        "colab": {
          "base_uri": "https://localhost:8080/"
        },
        "id": "XexFjG-A-XVh",
        "outputId": "56569704-6f88-4ddd-b788-440f15ce4b85"
      },
      "execution_count": 49,
      "outputs": [
        {
          "output_type": "stream",
          "name": "stdout",
          "text": [
            "- get_invoices(month: string): Fetches all invoice records for a given month.\n",
            "- summarize_invoices(invoices: list): Summarizes a list of invoices to get total amount and stats.\n",
            "- send_email(to: string, subject: string, body: string): Sends an email with subject and body to a recipient.\n",
            "- get_meetings(date: string): Retrieves scheduled meetings for a specified date.\n",
            "- schedule_meeting(participants: list, date: string, time: string, agenda: string): Schedules a new meeting.\n",
            "- get_user_profile(user_id: string): Fetches profile data for a given user ID.\n",
            "- update_user_preferences(user_id: string, preferences: dict): Updates a user's notification or theme preferences.\n",
            "- fetch_weather(location: string): Gets weather information for a specified location.\n",
            "- log_activity(user_id: string, activity: string, timestamp: string): Logs a user activity for audit or tracking purposes.\n",
            "- translate_text(text: string, source_lang: string, target_lang: string): Translates input text from one language to another.\n",
            "- fetch_news_headlines(category: string, region: string): Retrieves top news headlines for a given category or location.\n",
            "- create_task(title: string, due_date: string, priority: string): Creates a to-do task for the user.\n",
            "\n"
          ]
        }
      ]
    },
    {
      "cell_type": "code",
      "source": [
        "from langchain.prompts import PromptTemplate\n",
        "from langchain.chains import LLMChain\n",
        "from langchain.llms import HuggingFaceHub\n",
        "\n",
        "cleaning_prompt = PromptTemplate.from_template(\"\"\"\n",
        "You are a query normalizer assistant. Rewrite the following user query into a clean, professional, and structured instruction that can be easily interpreted by an AI planner.\n",
        "\n",
        "Original Query: \"{query}\"\n",
        "Cleaned Instruction:\n",
        "\"\"\")\n"
      ],
      "metadata": {
        "id": "d-LZGjnGJtCs"
      },
      "execution_count": 50,
      "outputs": []
    },
    {
      "cell_type": "code",
      "source": [
        "import google.generativeai as genai"
      ],
      "metadata": {
        "id": "ePvuMqfNJxpn"
      },
      "execution_count": 51,
      "outputs": []
    },
    {
      "cell_type": "code",
      "source": [
        "import os\n",
        "from google.colab import userdata\n",
        "\n",
        "# os.environ['HUGGINGFACEHUB_API_TOKEN'] = userdata.get('HUGGINGFACEHUB_API_TOKEN')\n",
        "os.environ['google_genai_key'] = userdata.get('GOOGLE_API_KEY')"
      ],
      "metadata": {
        "id": "kABAofl2J1kW"
      },
      "execution_count": 52,
      "outputs": []
    },
    {
      "cell_type": "code",
      "source": [
        "genai.configure(api_key=os.environ[\"google_genai_key\"])"
      ],
      "metadata": {
        "id": "0J8a5lyFJ1fV"
      },
      "execution_count": 53,
      "outputs": []
    },
    {
      "cell_type": "code",
      "source": [
        "from langchain.schema.runnable import RunnableLambda\n",
        "\n",
        "# Generic Gemini wrapper for any prompt\n",
        "def gemini_wrapper(prompt: str) -> str:\n",
        "    model = genai.GenerativeModel(\"gemini-2.0-flash\")\n",
        "    response = model.generate_content(prompt)\n",
        "    return response.text.strip()"
      ],
      "metadata": {
        "id": "IQ5iYsF_J-YW"
      },
      "execution_count": 54,
      "outputs": []
    },
    {
      "cell_type": "code",
      "source": [
        "# Gemini-based prompt template\n",
        "def clean_with_gemini(raw_query):\n",
        "    prompt = f\"\"\"\n",
        "You are a query normalizer. Rewrite vague or informal user queries into clear, structured instructions.\n",
        "\n",
        "Original: \"{raw_query}\"\n",
        "Cleaned:\"\"\"\n",
        "    return gemini_wrapper(prompt)\n",
        "\n",
        "# Wrap as LangChain Runnable\n",
        "gemini_cleaner = RunnableLambda(lambda x: {\"user_query\": clean_with_gemini(x[\"query\"])})"
      ],
      "metadata": {
        "id": "TGL-397UJ_jR"
      },
      "execution_count": 55,
      "outputs": []
    },
    {
      "cell_type": "code",
      "source": [
        "def plan_with_gemini(cleaned_query, function_library):\n",
        "    prompt = f\"\"\"\n",
        "You are a function planning assistant. Given a structured task, output the ordered list of function calls needed.\n",
        "\n",
        "Available functions:\n",
        "{format_function_prompt(function_library)}\n",
        "\n",
        "Task: {cleaned_query}\n",
        "\n",
        "Plan:\n",
        "\"\"\"\n",
        "    return gemini_wrapper(prompt)\n",
        "\n",
        "gemini_planner = RunnableLambda(lambda x: {\"plan\": plan_with_gemini(x[\"user_query\"], function_library)})"
      ],
      "metadata": {
        "id": "DpN-pMhYKFRo"
      },
      "execution_count": 56,
      "outputs": []
    },
    {
      "cell_type": "code",
      "source": [
        "pipeline = gemini_cleaner | gemini_planner\n"
      ],
      "metadata": {
        "id": "l9c7A65DKVr3"
      },
      "execution_count": 57,
      "outputs": []
    },
    {
      "cell_type": "code",
      "source": [
        "def run_pipeline(query):\n",
        "     return pipeline.invoke({\"query\": query})[\"plan\"]\n"
      ],
      "metadata": {
        "id": "L7MbyJYTKaok"
      },
      "execution_count": 58,
      "outputs": []
    },
    {
      "cell_type": "code",
      "source": [
        "from IPython.display import display\n",
        "import ipywidgets as widgets"
      ],
      "metadata": {
        "id": "rGcVFzkbLKtp"
      },
      "execution_count": 59,
      "outputs": []
    },
    {
      "cell_type": "code",
      "source": [
        "# Input box\n",
        "input_box = widgets.Text(\n",
        "    value='grab my bills from may 2024',\n",
        "    placeholder='Enter your query here',\n",
        "    description='Query:',\n",
        "    layout=widgets.Layout(width='100%')\n",
        ")\n",
        "\n",
        "# Run button\n",
        "run_button = widgets.Button(\n",
        "    description='Generate Plan',\n",
        "    button_style='success'\n",
        ")\n",
        "\n",
        "# Output area\n",
        "output_area = widgets.Output()\n"
      ],
      "metadata": {
        "id": "LrXmciXOLNzo"
      },
      "execution_count": 60,
      "outputs": []
    },
    {
      "cell_type": "code",
      "source": [
        "def on_run_button_clicked(b):\n",
        "    output_area.clear_output()\n",
        "    with output_area:\n",
        "        print(\"⏳ Generating plan... please wait.\")\n",
        "    with output_area:\n",
        "        user_input = input_box.value\n",
        "        try:\n",
        "            result = run_pipeline(user_input)\n",
        "            print(\"Function Plan:\\n\", result)\n",
        "        except Exception as e:\n",
        "            print(\"Error:\", str(e))\n",
        "\n",
        "run_button.on_click(on_run_button_clicked)\n"
      ],
      "metadata": {
        "id": "R9Q7C_anLPF2"
      },
      "execution_count": 61,
      "outputs": []
    },
    {
      "cell_type": "code",
      "source": [
        "display(input_box, run_button, output_area)\n"
      ],
      "metadata": {
        "colab": {
          "base_uri": "https://localhost:8080/",
          "height": 309,
          "referenced_widgets": [
            "96a05789cbd94e518adba4dfabf6b09d",
            "d5ab990f8409473199b1bb9c32e679f6",
            "a48da66354784661b0bf8f7ce19a379e",
            "3a1fb8fba3904648a0b8a818b8ee3581",
            "8f9f1c5f9a80463ea2f947ccd7db12cc",
            "1b2f8338e8384dcfb8174c57aecf075c",
            "06169cec8ff14f7b9b07577acdefa146",
            "a67f20016c7043d79bbd02ca8d9fd8fd"
          ]
        },
        "id": "4WxfX9aFQL6t",
        "outputId": "9f965c4b-ca14-44da-bb07-29413fd46551"
      },
      "execution_count": 69,
      "outputs": [
        {
          "output_type": "display_data",
          "data": {
            "text/plain": [
              "Text(value='tell me abt the bills from last month and schedule a meeting with david tonight to dicsuss about t…"
            ],
            "application/vnd.jupyter.widget-view+json": {
              "version_major": 2,
              "version_minor": 0,
              "model_id": "96a05789cbd94e518adba4dfabf6b09d"
            }
          },
          "metadata": {}
        },
        {
          "output_type": "display_data",
          "data": {
            "text/plain": [
              "Button(button_style='success', description='Generate Plan', style=ButtonStyle())"
            ],
            "application/vnd.jupyter.widget-view+json": {
              "version_major": 2,
              "version_minor": 0,
              "model_id": "3a1fb8fba3904648a0b8a818b8ee3581"
            }
          },
          "metadata": {}
        },
        {
          "output_type": "display_data",
          "data": {
            "text/plain": [
              "Output()"
            ],
            "application/vnd.jupyter.widget-view+json": {
              "version_major": 2,
              "version_minor": 0,
              "model_id": "06169cec8ff14f7b9b07577acdefa146"
            }
          },
          "metadata": {}
        },
        {
          "output_type": "stream",
          "name": "stdout",
          "text": [
            "Function Plan:\n",
            " 1. **Get invoices from the previous month:** `get_invoices(month)` needs to be called, where `month` should be the previous month (e.g., \"October\" if it is currently November).\n",
            "2. **Summarize the invoices:** `summarize_invoices(invoices)` should be called using the output from step 1.\n",
            "3. **Schedule a meeting with David:** `schedule_meeting(participants, date, time, agenda)` needs to be called, where `participants` includes \"David\", `date` is \"today\", `time` should be a suitable time \"tonight\", and `agenda` should relate to discussing the bills.\n",
            "\n",
            "Output:\n",
            "```\n",
            "1. get_invoices(month=\"previous month\")\n",
            "2. summarize_invoices(invoices=\"result of get_invoices\")\n",
            "3. schedule_meeting(participants=[\"David\"], date=\"today\", time=\"tonight\", agenda=\"Discuss summarized invoices from previous month\")\n",
            "```\n"
          ]
        }
      ]
    }
  ]
}